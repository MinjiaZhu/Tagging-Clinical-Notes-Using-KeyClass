{
 "cells": [
  {
   "cell_type": "code",
   "execution_count": 6,
   "metadata": {},
   "outputs": [],
   "source": [
    "import pandas as pd\n",
    "import random\n",
    "import csv\n",
    "\n",
    "def sample_csv(input_file, output_file, num_samples):\n",
    "    \"\"\"\n",
    "    Randomly samples rows from an input CSV file and saves them to an output CSV file.\n",
    "\n",
    "    Parameters:\n",
    "    - input_file (str): The path to the input CSV file.\n",
    "    - output_file (str): The path to save the sampled rows as a new CSV file.\n",
    "    - num_samples (int): The number of rows to sample.\n",
    "    \"\"\"\n",
    "    # Reading the input CSV file into a DataFrame\n",
    "    df = pd.read_csv(input_file)\n",
    "\n",
    "    # Ensure num_samples does not exceed the number of rows in the input file\n",
    "    num_samples = min(num_samples, len(df))\n",
    "\n",
    "    # Randomly sample num_samples rows from the DataFrame\n",
    "    sampled_df = df.sample(n=num_samples, random_state=random.randint(1, 100))\n",
    "\n",
    "    # Write the sampled DataFrame to the output file with the header\n",
    "    sampled_df.to_csv(output_file, index=False)\n",
    "\n",
    "def count_rows_csv(file_path):\n",
    "    with open(file_path, 'r', encoding='utf-8') as file:\n",
    "        reader = csv.reader(file)\n",
    "        row_count = sum(1 for row in reader)  # Counts the rows in the CSV file\n",
    "    return row_count\n"
   ]
  },
  {
   "cell_type": "code",
   "execution_count": 7,
   "metadata": {},
   "outputs": [
    {
     "ename": "ValueError",
     "evalue": "Column 'Role' not found in CSV.",
     "output_type": "error",
     "traceback": [
      "\u001b[0;31m---------------------------------------------------------------------------\u001b[0m",
      "\u001b[0;31mValueError\u001b[0m                                Traceback (most recent call last)",
      "Cell \u001b[0;32mIn[7], line 4\u001b[0m\n\u001b[1;32m      2\u001b[0m \u001b[38;5;28;01mif\u001b[39;00m \u001b[38;5;18m__name__\u001b[39m \u001b[38;5;241m==\u001b[39m \u001b[38;5;124m\"\u001b[39m\u001b[38;5;124m__main__\u001b[39m\u001b[38;5;124m\"\u001b[39m:\n\u001b[1;32m      3\u001b[0m     input_csv \u001b[38;5;241m=\u001b[39m \u001b[38;5;124m\"\u001b[39m\u001b[38;5;124micd9NotesDataTable_train.csv\u001b[39m\u001b[38;5;124m\"\u001b[39m  \n\u001b[0;32m----> 4\u001b[0m     \u001b[43mcount_roles_in_csv\u001b[49m\u001b[43m(\u001b[49m\u001b[43minput_csv\u001b[49m\u001b[43m)\u001b[49m\n\u001b[1;32m      5\u001b[0m     \u001b[38;5;66;03m# output_csv = \"icd9NotesDataTable_train_sample.csv\"  \u001b[39;00m\n\u001b[1;32m      6\u001b[0m     \u001b[38;5;66;03m# num_rows_to_sample = 5000  # Desired number of rows to sample, starting really small\u001b[39;00m\n\u001b[1;32m      7\u001b[0m     \u001b[38;5;66;03m# sample_csv(input_csv, output_csv, num_rows_to_sample)\u001b[39;00m\n",
      "Cell \u001b[0;32mIn[6], line 38\u001b[0m, in \u001b[0;36mcount_roles_in_csv\u001b[0;34m(file_path, role_column)\u001b[0m\n\u001b[1;32m     36\u001b[0m \u001b[38;5;66;03m# Check if the specified column exists\u001b[39;00m\n\u001b[1;32m     37\u001b[0m \u001b[38;5;28;01mif\u001b[39;00m role_column \u001b[38;5;129;01mnot\u001b[39;00m \u001b[38;5;129;01min\u001b[39;00m df\u001b[38;5;241m.\u001b[39mcolumns:\n\u001b[0;32m---> 38\u001b[0m     \u001b[38;5;28;01mraise\u001b[39;00m \u001b[38;5;167;01mValueError\u001b[39;00m(\u001b[38;5;124mf\u001b[39m\u001b[38;5;124m\"\u001b[39m\u001b[38;5;124mColumn \u001b[39m\u001b[38;5;124m'\u001b[39m\u001b[38;5;132;01m{\u001b[39;00mrole_column\u001b[38;5;132;01m}\u001b[39;00m\u001b[38;5;124m'\u001b[39m\u001b[38;5;124m not found in CSV.\u001b[39m\u001b[38;5;124m\"\u001b[39m)\n\u001b[1;32m     40\u001b[0m \u001b[38;5;66;03m# Get the unique roles\u001b[39;00m\n\u001b[1;32m     41\u001b[0m unique_roles \u001b[38;5;241m=\u001b[39m df[role_column]\u001b[38;5;241m.\u001b[39munique()\n",
      "\u001b[0;31mValueError\u001b[0m: Column 'Role' not found in CSV."
     ]
    }
   ],
   "source": [
    "# Example usage\n",
    "if __name__ == \"__main__\":\n",
    "    input_csv = \"icd9NotesDataTable_train.csv\"  \n",
    "    count_roles_in_csv(input_csv)\n",
    "    # output_csv = \"icd9NotesDataTable_train_sample.csv\"  \n",
    "    # num_rows_to_sample = 5000  # Desired number of rows to sample, starting really small\n",
    "    # sample_csv(input_csv, output_csv, num_rows_to_sample)"
   ]
  },
  {
   "cell_type": "code",
   "execution_count": null,
   "metadata": {},
   "outputs": [],
   "source": []
  }
 ],
 "metadata": {
  "kernelspec": {
   "display_name": "Python 3",
   "language": "python",
   "name": "python3"
  },
  "language_info": {
   "codemirror_mode": {
    "name": "ipython",
    "version": 3
   },
   "file_extension": ".py",
   "mimetype": "text/x-python",
   "name": "python",
   "nbconvert_exporter": "python",
   "pygments_lexer": "ipython3",
   "version": "3.11.9"
  }
 },
 "nbformat": 4,
 "nbformat_minor": 2
}
